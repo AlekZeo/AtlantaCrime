{
 "cells": [
  {
   "cell_type": "code",
   "execution_count": null,
   "id": "4b0ffb7a",
   "metadata": {},
   "outputs": [],
   "source": [
    "#packages\n",
    "#pip install pandas\n",
    "#pip install openpyxl"
   ]
  },
  {
   "cell_type": "code",
   "execution_count": 1,
   "id": "cff9ccda",
   "metadata": {},
   "outputs": [],
   "source": [
    "#dependency\n",
    "import pandas as pd\n",
    "\n",
    "# Open and save Atlanta Crime 2009-2020\n",
    "df20 = pd.read_excel('2009_2020ATLCrimeData.xlsx')\n",
    "\n",
    "# Open and save Atlanta Crime 2021-2023\n",
    "df23 = pd.read_excel('2021_2023ATLCrimeData.xlsx')"
   ]
  },
  {
   "cell_type": "code",
   "execution_count": 2,
   "id": "a0252097",
   "metadata": {},
   "outputs": [
    {
     "name": "stdout",
     "output_type": "stream",
     "text": [
      "['Report Number', 'Date', 'Day Occurred', 'Day Number', 'Beat', 'Zone', 'Location', 'Crime Type', 'NIBRS Code', 'Neighborhood', 'NPU', 'Longitude', 'Latitude', 'X', 'Y']\n",
      "['X', 'Y', 'Report Number', 'Date', 'Day Occurred', 'Day Number', 'Zone', 'Beat', 'Location', 'NIBRS Code', 'Crime Type', 'Longitude', 'Latitude', 'Neighborhood', 'NPU']\n"
     ]
    }
   ],
   "source": [
    "#columns in each dataframe\n",
    "print(df20.columns.tolist())\n",
    "print(df23.columns.tolist())"
   ]
  },
  {
   "cell_type": "code",
   "execution_count": 3,
   "id": "06ad5f70",
   "metadata": {
    "scrolled": true
   },
   "outputs": [
    {
     "name": "stdout",
     "output_type": "stream",
     "text": [
      "['Report Number', 'Date', 'Day Occurred', 'Day Number', 'Beat', 'Zone', 'Location', 'Crime Type', 'NIBRS Code', 'Neighborhood', 'NPU', 'Longitude', 'Latitude', 'X', 'Y']\n"
     ]
    }
   ],
   "source": [
    "#match column order\n",
    "df23 = df23[['Report Number', 'Date', 'Day Occurred', 'Day Number', 'Beat', 'Zone', 'Location', 'Crime Type', 'NIBRS Code', 'Neighborhood', 'NPU', 'Longitude', 'Latitude', 'X', 'Y']]\n",
    "print(df23.columns.tolist())"
   ]
  },
  {
   "cell_type": "code",
   "execution_count": 4,
   "id": "d1d905b6",
   "metadata": {
    "scrolled": true
   },
   "outputs": [
    {
     "name": "stderr",
     "output_type": "stream",
     "text": [
      "C:\\Users\\agutierrez\\AppData\\Local\\Temp\\ipykernel_3556\\3902555531.py:1: FutureWarning: The frame.append method is deprecated and will be removed from pandas in a future version. Use pandas.concat instead.\n",
      "  appended_df = df20.append(df23, ignore_index=True)\n"
     ]
    }
   ],
   "source": [
    "#append crime 2020 and 2023 crime data\n",
    "appended_df = df20.append(df23, ignore_index=True)"
   ]
  },
  {
   "cell_type": "code",
   "execution_count": 5,
   "id": "7b9d230d",
   "metadata": {},
   "outputs": [],
   "source": [
    "#save to file\n",
    "appended_df.to_excel('ATLCrimeMerge.xlsx', index=False)"
   ]
  },
  {
   "cell_type": "code",
   "execution_count": 6,
   "id": "2f665a6f",
   "metadata": {},
   "outputs": [
    {
     "name": "stdout",
     "output_type": "stream",
     "text": [
      "[2020 2019 2018 2017 2016 2015 2014 2013 2012 2011 2010 2009 2021 2022\n",
      " 2023]\n"
     ]
    }
   ],
   "source": [
    "# Extract the year from the \"Date\" column\n",
    "appended_df['Year'] = pd.to_datetime(appended_df['Date']).dt.year\n",
    "\n",
    "# Get the distinct years\n",
    "distinct_years = appended_df['Year'].unique()\n",
    "\n",
    "# Print the distinct years\n",
    "print(distinct_years)"
   ]
  },
  {
   "cell_type": "code",
   "execution_count": null,
   "id": "7a61c60f",
   "metadata": {},
   "outputs": [],
   "source": []
  },
  {
   "cell_type": "code",
   "execution_count": null,
   "id": "b011a9c0",
   "metadata": {},
   "outputs": [],
   "source": []
  }
 ],
 "metadata": {
  "kernelspec": {
   "display_name": "Python 3 (ipykernel)",
   "language": "python",
   "name": "python3"
  },
  "language_info": {
   "codemirror_mode": {
    "name": "ipython",
    "version": 3
   },
   "file_extension": ".py",
   "mimetype": "text/x-python",
   "name": "python",
   "nbconvert_exporter": "python",
   "pygments_lexer": "ipython3",
   "version": "3.11.1"
  }
 },
 "nbformat": 4,
 "nbformat_minor": 5
}
